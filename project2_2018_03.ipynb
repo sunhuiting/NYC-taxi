{
 "cells": [
  {
   "cell_type": "code",
   "execution_count": null,
   "metadata": {},
   "outputs": [],
   "source": [
    "import pandas as pd\n",
    "import numpy as np\n",
    "import matplotlib.pyplot as plt\n",
    "import seaborn as sns\n",
    "% matplotlib inline\n",
    "plt.style.use('seaborn-white')\n",
    "pd.set_option('display.float_format', lambda x: '%.3f' % x)"
   ]
  },
  {
   "cell_type": "code",
   "execution_count": null,
   "metadata": {},
   "outputs": [],
   "source": [
    "df = pd.read_csv(\"yellow_tripdata_2018-03.csv\")"
   ]
  },
  {
   "cell_type": "code",
   "execution_count": null,
   "metadata": {},
   "outputs": [],
   "source": [
    "df = df.drop(['RatecodeID', 'mta_tax', 'tolls_amount', 'improvement_surcharge', 'store_and_fwd_flag'], axis=1)"
   ]
  },
  {
   "cell_type": "code",
   "execution_count": null,
   "metadata": {},
   "outputs": [],
   "source": [
    "df = df.rename(columns={\"tpep_pickup_datetime\": \"pickup_datetime\", \"tpep_dropoff_datetime\": \"dropoff_datetime\"})"
   ]
  },
  {
   "cell_type": "code",
   "execution_count": null,
   "metadata": {},
   "outputs": [],
   "source": [
    "df.describe()"
   ]
  },
  {
   "cell_type": "code",
   "execution_count": null,
   "metadata": {},
   "outputs": [],
   "source": [
    "cleasing = df[(df.tip_amount >= 0) & (df.tip_amount <= 100) & (df.fare_amount >= 2.5) & (df.fare_amount <= 100) & \n",
    "              (df.total_amount >= 2.5) & (df.total_amount <= 300) & (df.trip_distance > 0) & (df.passenger_count > 0) &\n",
    "             (df.extra >= 0) & (df.extra <= 1)]"
   ]
  },
  {
   "cell_type": "code",
   "execution_count": null,
   "metadata": {},
   "outputs": [],
   "source": [
    "cleasing.describe()"
   ]
  },
  {
   "cell_type": "code",
   "execution_count": null,
   "metadata": {},
   "outputs": [],
   "source": [
    "# fare amount\n",
    "plt.figure(figsize = (14, 4))\n",
    "n, bins, patches = plt.hist(cleasing.fare_amount, 1000, facecolor='blue', alpha=0.75)\n",
    "plt.xlabel('Fare amount')\n",
    "plt.title('Histogram of fare amount')\n",
    "plt.xlim(0, 60)\n",
    "plt.show();"
   ]
  },
  {
   "cell_type": "code",
   "execution_count": null,
   "metadata": {},
   "outputs": [],
   "source": [
    "cleasing.groupby('fare_amount').size().nlargest(20)"
   ]
  },
  {
   "cell_type": "code",
   "execution_count": null,
   "metadata": {},
   "outputs": [],
   "source": [
    "# passenger count\n",
    "cleasing['passenger_count'].value_counts().plot.bar(color = 'b', edgecolor = 'k');\n",
    "plt.title('Histogram of passenger counts'); plt.xlabel('Passenger counts'); plt.ylabel('Count');"
   ]
  },
  {
   "cell_type": "code",
   "execution_count": null,
   "metadata": {},
   "outputs": [],
   "source": [
    "cleasing.groupby('passenger_count').size()\n",
    "# remove taxi rides with <= 6\n",
    "# taxi = taxi.loc[taxi['passenger_count'] <= 6]"
   ]
  },
  {
   "cell_type": "code",
   "execution_count": null,
   "metadata": {},
   "outputs": [],
   "source": [
    "# A baseline model\n",
    "from sklearn.model_selection import train_test_split\n",
    "\n",
    "train, test = train_test_split(cleasing, test_size=0.3, random_state=42)\n",
    "import numpy as np\n",
    "import shutil\n",
    "\n",
    "def distance_between(lat1, lon1, lat2, lon2):\n",
    "  # Haversine formula to compute distance \n",
    "  dist = np.degrees(np.arccos(np.sin(np.radians(lat1)) * np.sin(np.radians(lat2)) + np.cos(np.radians(lat1)) * np.cos(np.radians(lat2)) * np.cos(np.radians(lon2 - lon1)))) * 60 * 1.515 * 1.609344\n",
    "  return dist\n",
    "\n",
    "def estimate_distance(df):\n",
    "  return distance_between(df['pickup_latitude'], df['pickup_longitude'], df['dropoff_latitude'], df['dropoff_longitude'])\n",
    "\n",
    "def compute_rmse(actual, predicted):\n",
    "  return np.sqrt(np.mean((actual - predicted)**2))\n",
    "\n",
    "def print_rmse(df, rate, name):\n",
    "  print(\"{1} RMSE = {0}\".format(compute_rmse(df['fare_amount'], rate * estimate_distance(df)), name))\n",
    "  \n",
    "rate = train['fare_amount'].mean() / estimate_distance(train).mean()\n",
    "\n",
    "print(\"Rate = ${0}/km\".format(rate))\n",
    "print_rmse(train, rate, 'Train')\n",
    "print_rmse(test, rate, 'Test')"
   ]
  },
  {
   "cell_type": "code",
   "execution_count": null,
   "metadata": {},
   "outputs": [],
   "source": [
    "# Feature engineering\n",
    "cleasing['pickup_datetime'] = pd.to_datetime(cleasing['pickup_datetime'], errors='coerce')\n",
    "\n",
    "cleasing['year'] = cleasing.pickup_datetime.dt.year\n",
    "cleasing['month'] = cleasing.pickup_datetime.dt.month\n",
    "cleasing['day'] = cleasing.pickup_datetime.dt.day\n",
    "cleasing['weekday'] = cleasing.pickup_datetime.dt.weekday\n",
    "cleasing['hour'] = cleasing.pickup_datetime.dt.hour"
   ]
  },
  {
   "cell_type": "code",
   "execution_count": null,
   "metadata": {},
   "outputs": [],
   "source": [
    "cleasing.describe()"
   ]
  },
  {
   "cell_type": "code",
   "execution_count": null,
   "metadata": {},
   "outputs": [],
   "source": [
    "cleasing = cleasing.loc[cleasing['year'] == 2018]\n",
    "cleasing = cleasing.loc[cleasing['month'] == 3]"
   ]
  },
  {
   "cell_type": "code",
   "execution_count": null,
   "metadata": {},
   "outputs": [],
   "source": [
    "cleasing.describe()"
   ]
  },
  {
   "cell_type": "code",
   "execution_count": null,
   "metadata": {},
   "outputs": [],
   "source": [
    "from sklearn import linear_model\n",
    "reg = linear_model.LinearRegression()\n",
    "reg.fit(cleasing.drop('total_amount', axis=1), cleasing['total_amount'])                                     \n",
    "LinearRegression(copy_X=True, fit_intercept=True, n_jobs=None, normalize=False)\n",
    "#reg.coef_"
   ]
  },
  {
   "cell_type": "code",
   "execution_count": null,
   "metadata": {},
   "outputs": [],
   "source": [
    "from math import radians, cos, sin, asin, sqrt\n",
    "import numpy as np\n",
    "\n",
    "def haversine_np(lon1, lat1, lon2, lat2):\n",
    "    \"\"\"\n",
    "    Calculate the great circle distance between two points\n",
    "    on the earth (specified in decimal degrees)\n",
    "\n",
    "    All args must be of equal length.    \n",
    "\n",
    "    \"\"\"\n",
    "    lon1, lat1, lon2, lat2 = map(np.radians, [lon1, lat1, lon2, lat2])\n",
    "\n",
    "    dlon = lon2 - lon1\n",
    "    dlat = lat2 - lat1\n",
    "\n",
    "    a = np.sin(dlat/2.0)**2 + np.cos(lat1) * np.cos(lat2) * np.sin(dlon/2.0)**2\n",
    "\n",
    "    c = 2 * np.arcsin(np.sqrt(a))\n",
    "    km = 6371 * c  # 6371 is Radius of earth in kilometers. Use 3956 for miles\n",
    "    return km\n",
    "\n",
    "cleasing['distance'] = haversine_np(cleasing['pickup_latitude'], cleasing['pickup_longitude'], cleasing['dropoff_latitude'] , cleasing['dropoff_longitude'])"
   ]
  },
  {
   "cell_type": "code",
   "execution_count": null,
   "metadata": {},
   "outputs": [],
   "source": [
    "JFK_coord = (40.6413, -73.7781)\n",
    "pickup_JFK = haversine_np(cleasing['pickup_latitude'], cleasing['pickup_longitude'], JFK_coord[0], JFK_coord[1]) \n",
    "dropoff_JFK = haversine_np(JFK_coord[0], JFK_coord[1], cleasing['dropoff_latitude'], cleasing['dropoff_longitude'])\n",
    "cleasing['JFK_distance'] = pd.concat([pickup_JFK, dropoff_JFK], axis=1).min(axis=1)\n",
    "del cleasing['tpep_pickup_datetime']\n",
    "cleasing.head()"
   ]
  },
  {
   "cell_type": "code",
   "execution_count": null,
   "metadata": {
    "scrolled": true
   },
   "outputs": [],
   "source": [
    "plt.figure(figsize = (14, 4))\n",
    "n, bins, patches = plt.hist(cleasing.distance, 1000, facecolor='blue', alpha=0.75)\n",
    "plt.xlabel('distance')\n",
    "plt.title('Histogram of ride distance')\n",
    "plt.show();"
   ]
  },
  {
   "cell_type": "code",
   "execution_count": null,
   "metadata": {},
   "outputs": [],
   "source": [
    "# Linear regression modedl\n",
    "from sklearn.model_selection import train_test_split\n",
    "y = cleasing['fare_amount']\n",
    "X = cleasing.drop(columns=['fare_amount'])\n",
    "X_train, X_test, y_train, y_test = train_test_split(X, y, test_size=0.3, random_state=42)\n",
    "\n",
    "from sklearn.linear_model import LinearRegression\n",
    "lr = LinearRegression()\n",
    "lr.fit(X_train, y_train)\n",
    "y_pred = lr.predict(X_test)\n",
    "\n",
    "from sklearn.metrics import mean_squared_error\n",
    "print(\"Test RMSE: %.3f\" % mean_squared_error(y_test, y_pred) ** 0.5)"
   ]
  },
  {
   "cell_type": "code",
   "execution_count": null,
   "metadata": {},
   "outputs": [],
   "source": [
    "from sklearn.ensemble import RandomForestRegressor\n",
    "\n",
    "rf = RandomForestRegressor(max_depth=2, random_state=0, n_estimators=100)\n",
    "rf.fit(X_train, y_train)\n",
    "y_pred = rf.predict(X_test)\n",
    "print(\"Test RMSE: %.3f\" % mean_squared_error(y_test, y_pred) ** 0.5)"
   ]
  }
 ],
 "metadata": {
  "kernelspec": {
   "display_name": "Python 3",
   "language": "python",
   "name": "python3"
  },
  "language_info": {
   "codemirror_mode": {
    "name": "ipython",
    "version": 3
   },
   "file_extension": ".py",
   "mimetype": "text/x-python",
   "name": "python",
   "nbconvert_exporter": "python",
   "pygments_lexer": "ipython3",
   "version": "3.6.4"
  }
 },
 "nbformat": 4,
 "nbformat_minor": 2
}
