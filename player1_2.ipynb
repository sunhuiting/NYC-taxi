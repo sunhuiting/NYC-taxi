{
 "cells": [
  {
   "cell_type": "code",
   "execution_count": 66,
   "metadata": {},
   "outputs": [],
   "source": [
    "import sys\n",
    "import json\n",
    "import datetime\n",
    "from datetime import timedelta\n",
    "import dateutil.parser\n",
    "import random\n",
    "import pandas as pdo"
   ]
  },
  {
   "cell_type": "code",
   "execution_count": 67,
   "metadata": {},
   "outputs": [],
   "source": [
    "lookup_cluster = pd.read_csv('lookup.csv')"
   ]
  },
  {
   "cell_type": "code",
   "execution_count": 68,
   "metadata": {},
   "outputs": [],
   "source": [
    "def trace_weekday(weekday_num):\n",
    "    weekday_lst = ['Mon', 'Tue', 'Wed', 'Thu', 'Fri', 'Sat', 'Sun']\n",
    "    filename = 'lookup_' + weekday_lst[weekday_num] + '.csv'\n",
    "    return filename"
   ]
  },
  {
   "cell_type": "code",
   "execution_count": 69,
   "metadata": {},
   "outputs": [],
   "source": [
    "def play_turn(current_datetime, currentCell):\n",
    "    current_datetime = pd.to_datetime(current_datetime)\n",
    "    current_hour = current_datetime.dt.hour\n",
    "    current_day = current_datetime.dt.weekday\n",
    "    currentCluster = lookup_cluster[lookup_cluster['cell']==str(currentCell)]['cluster']\n",
    "    db = trace_weekday(current_day) # current weekday lookup table\n",
    "    clusterdensity = pd.read_csv(db)\n",
    "    target_cluster = clusterdensity[currentCluster] # current weekday , current cluster\n",
    "    \n",
    "    if (target_cluster[current_hour*3-1] == 'high'): \n",
    "        # suppose staying at current cell\n",
    "        next_move = currentCell\n",
    "    elif ((target_cluster[current_hour*3-1] == 'median')| \n",
    "         (target_cluster[current_hour*3-1] == 'low')): \n",
    "        # suppose going to the the max trip rate at current hour, highest cluster\n",
    "        max_trip_rate = clusterdensity[current_hour*3-2].max()\n",
    "        clusterdensity.loc[clusterdensity[current_hour*3-2] == max_trip_rate][current_hour*3]\n",
    "   \n",
    "    print(\"NextMove:\"+next_move)\n",
    "    return {\"state\":\"FORHIRE\",\"action\":\"MOVE\",\"moveTo\":next_move}"
   ]
  },
  {
   "cell_type": "code",
   "execution_count": 70,
   "metadata": {},
   "outputs": [],
   "source": [
    "def first_move(start_datetime):\n",
    "    start_datetime = start_datetime + timedelta(hours=12) \n",
    "    start_hour = start_datetime.dt.hour\n",
    "    clusterdensity = lookup_density[(lookup_density['cluster'] == currentCluster)]\n",
    "    next_move = lookup_density[max(clusterdensity[start_hour*3-2])][start_hour*3]\n",
    "    return {\"defer\":start_datetime,\"moveTo\":next_move}"
   ]
  },
  {
   "cell_type": "code",
   "execution_count": 71,
   "metadata": {},
   "outputs": [],
   "source": [
    "def next_shift(current_time):\n",
    "    current_day = current_datetime.dt.weekday\n",
    "    if (current_day == 0):  # if is Monday\n",
    "        start_datetime = current_time + timedelta(hours=14)\n",
    "        clusterdensity = lookup_density[(lookup_density['cluster'] == currentCluster)]\n",
    "        next_move = lookup_density[max(clusterdensity[start_hour*3-2])][start_hour*3]\n",
    "    \n",
    "    if (current_day == 1): # if is Tuesday\n",
    "        start_datetime = current_time + timedelta(hours=38)\n",
    "        clusterdensity = lookup_density[(lookup_density['cluster'] == currentCluster)]\n",
    "        next_move = lookup_density[max(clusterdensity[start_hour*3-2])][start_hour*3]\n",
    "        \n",
    "    if (current_day == 2): # if is Wednesday\n",
    "        start_datetime = current_time + timedelta(hours=14)\n",
    "        clusterdensity = lookup_density[(lookup_density['cluster'] == currentCluster)]\n",
    "        next_move = lookup_density[max(clusterdensity[start_hour*3-2])][start_hour*3]\n",
    "        \n",
    "    if (current_day == 3):# if is Thursday\n",
    "        start_datetime = current_time + timedelta(hours=14)\n",
    "        clusterdensity = lookup_density[(lookup_density['cluster'] == currentCluster)]\n",
    "        next_move = lookup_density[max(clusterdensity[start_hour*3-2])][start_hour*3]\n",
    "    \n",
    "    if (current_day == 4): # if is Friday\n",
    "        start_datetime = current_time + timedelta(hours=13)\n",
    "        clusterdensity = lookup_density[(lookup_density['cluster'] == currentCluster)]\n",
    "        next_move = lookup_density[max(clusterdensity[start_hour*3-2])][start_hour*3]\n",
    "        \n",
    "    if (current_day == 5): # if is Saturday\n",
    "        start_datetime = current_time + timedelta(hours=9)\n",
    "        clusterdensity = lookup_density[(lookup_density['cluster'] == currentCluster)]\n",
    "        next_move = lookup_density[max(clusterdensity[start_hour*3-2])][start_hour*3]\n",
    "        \n",
    "    if (current_day == 6): # if is Sunday\n",
    "        start_datetime = current_time + timedelta(hours=14)\n",
    "        clusterdensity = lookup_density[(lookup_density['cluster'] == currentCluster)]\n",
    "        next_move = lookup_density[max(clusterdensity[start_hour*3-2])][start_hour*3]\n",
    "        \n",
    "    return {\"defer\":start_datetime,\"moveTo\":next_move}"
   ]
  },
  {
   "cell_type": "code",
   "execution_count": 72,
   "metadata": {},
   "outputs": [
    {
     "ename": "JSONDecodeError",
     "evalue": "Expecting value: line 1 column 1 (char 0)",
     "output_type": "error",
     "traceback": [
      "\u001b[0;31m---------------------------------------------------------------------------\u001b[0m",
      "\u001b[0;31mJSONDecodeError\u001b[0m                           Traceback (most recent call last)",
      "\u001b[0;32m<ipython-input-72-551ec78192bc>\u001b[0m in \u001b[0;36m<module>\u001b[0;34m()\u001b[0m\n\u001b[1;32m      1\u001b[0m \u001b[0;32mwhile\u001b[0m\u001b[0;34m(\u001b[0m\u001b[0;36m1\u001b[0m\u001b[0;34m)\u001b[0m \u001b[0;34m:\u001b[0m\u001b[0;34m\u001b[0m\u001b[0m\n\u001b[0;32m----> 2\u001b[0;31m     \u001b[0mreq\u001b[0m \u001b[0;34m=\u001b[0m \u001b[0mjson\u001b[0m\u001b[0;34m.\u001b[0m\u001b[0mloads\u001b[0m\u001b[0;34m(\u001b[0m\u001b[0msys\u001b[0m\u001b[0;34m.\u001b[0m\u001b[0mstdin\u001b[0m\u001b[0;34m.\u001b[0m\u001b[0mreadline\u001b[0m\u001b[0;34m(\u001b[0m\u001b[0;34m)\u001b[0m\u001b[0;34m)\u001b[0m\u001b[0;34m\u001b[0m\u001b[0m\n\u001b[0m\u001b[1;32m      3\u001b[0m     \u001b[0mreqtype\u001b[0m \u001b[0;34m=\u001b[0m \u001b[0mreq\u001b[0m\u001b[0;34m[\u001b[0m\u001b[0;34m'type'\u001b[0m\u001b[0;34m]\u001b[0m\u001b[0;34m\u001b[0m\u001b[0m\n\u001b[1;32m      4\u001b[0m     \u001b[0mcurrent_datetime\u001b[0m \u001b[0;34m=\u001b[0m \u001b[0mdateutil\u001b[0m\u001b[0;34m.\u001b[0m\u001b[0mparser\u001b[0m\u001b[0;34m.\u001b[0m\u001b[0mparse\u001b[0m\u001b[0;34m(\u001b[0m\u001b[0mreq\u001b[0m\u001b[0;34m[\u001b[0m\u001b[0;34m'time'\u001b[0m\u001b[0;34m]\u001b[0m\u001b[0;34m)\u001b[0m\u001b[0;34m\u001b[0m\u001b[0m\n\u001b[1;32m      5\u001b[0m     \u001b[0;32mif\u001b[0m\u001b[0;34m(\u001b[0m\u001b[0mreqtype\u001b[0m\u001b[0;34m==\u001b[0m\u001b[0;34m\"FIRSTMOVE\"\u001b[0m\u001b[0;34m)\u001b[0m\u001b[0;34m:\u001b[0m\u001b[0;34m\u001b[0m\u001b[0m\n",
      "\u001b[0;32m~/anaconda3/lib/python3.6/json/__init__.py\u001b[0m in \u001b[0;36mloads\u001b[0;34m(s, encoding, cls, object_hook, parse_float, parse_int, parse_constant, object_pairs_hook, **kw)\u001b[0m\n\u001b[1;32m    352\u001b[0m             \u001b[0mparse_int\u001b[0m \u001b[0;32mis\u001b[0m \u001b[0;32mNone\u001b[0m \u001b[0;32mand\u001b[0m \u001b[0mparse_float\u001b[0m \u001b[0;32mis\u001b[0m \u001b[0;32mNone\u001b[0m \u001b[0;32mand\u001b[0m\u001b[0;34m\u001b[0m\u001b[0m\n\u001b[1;32m    353\u001b[0m             parse_constant is None and object_pairs_hook is None and not kw):\n\u001b[0;32m--> 354\u001b[0;31m         \u001b[0;32mreturn\u001b[0m \u001b[0m_default_decoder\u001b[0m\u001b[0;34m.\u001b[0m\u001b[0mdecode\u001b[0m\u001b[0;34m(\u001b[0m\u001b[0ms\u001b[0m\u001b[0;34m)\u001b[0m\u001b[0;34m\u001b[0m\u001b[0m\n\u001b[0m\u001b[1;32m    355\u001b[0m     \u001b[0;32mif\u001b[0m \u001b[0mcls\u001b[0m \u001b[0;32mis\u001b[0m \u001b[0;32mNone\u001b[0m\u001b[0;34m:\u001b[0m\u001b[0;34m\u001b[0m\u001b[0m\n\u001b[1;32m    356\u001b[0m         \u001b[0mcls\u001b[0m \u001b[0;34m=\u001b[0m \u001b[0mJSONDecoder\u001b[0m\u001b[0;34m\u001b[0m\u001b[0m\n",
      "\u001b[0;32m~/anaconda3/lib/python3.6/json/decoder.py\u001b[0m in \u001b[0;36mdecode\u001b[0;34m(self, s, _w)\u001b[0m\n\u001b[1;32m    337\u001b[0m \u001b[0;34m\u001b[0m\u001b[0m\n\u001b[1;32m    338\u001b[0m         \"\"\"\n\u001b[0;32m--> 339\u001b[0;31m         \u001b[0mobj\u001b[0m\u001b[0;34m,\u001b[0m \u001b[0mend\u001b[0m \u001b[0;34m=\u001b[0m \u001b[0mself\u001b[0m\u001b[0;34m.\u001b[0m\u001b[0mraw_decode\u001b[0m\u001b[0;34m(\u001b[0m\u001b[0ms\u001b[0m\u001b[0;34m,\u001b[0m \u001b[0midx\u001b[0m\u001b[0;34m=\u001b[0m\u001b[0m_w\u001b[0m\u001b[0;34m(\u001b[0m\u001b[0ms\u001b[0m\u001b[0;34m,\u001b[0m \u001b[0;36m0\u001b[0m\u001b[0;34m)\u001b[0m\u001b[0;34m.\u001b[0m\u001b[0mend\u001b[0m\u001b[0;34m(\u001b[0m\u001b[0;34m)\u001b[0m\u001b[0;34m)\u001b[0m\u001b[0;34m\u001b[0m\u001b[0m\n\u001b[0m\u001b[1;32m    340\u001b[0m         \u001b[0mend\u001b[0m \u001b[0;34m=\u001b[0m \u001b[0m_w\u001b[0m\u001b[0;34m(\u001b[0m\u001b[0ms\u001b[0m\u001b[0;34m,\u001b[0m \u001b[0mend\u001b[0m\u001b[0;34m)\u001b[0m\u001b[0;34m.\u001b[0m\u001b[0mend\u001b[0m\u001b[0;34m(\u001b[0m\u001b[0;34m)\u001b[0m\u001b[0;34m\u001b[0m\u001b[0m\n\u001b[1;32m    341\u001b[0m         \u001b[0;32mif\u001b[0m \u001b[0mend\u001b[0m \u001b[0;34m!=\u001b[0m \u001b[0mlen\u001b[0m\u001b[0;34m(\u001b[0m\u001b[0ms\u001b[0m\u001b[0;34m)\u001b[0m\u001b[0;34m:\u001b[0m\u001b[0;34m\u001b[0m\u001b[0m\n",
      "\u001b[0;32m~/anaconda3/lib/python3.6/json/decoder.py\u001b[0m in \u001b[0;36mraw_decode\u001b[0;34m(self, s, idx)\u001b[0m\n\u001b[1;32m    355\u001b[0m             \u001b[0mobj\u001b[0m\u001b[0;34m,\u001b[0m \u001b[0mend\u001b[0m \u001b[0;34m=\u001b[0m \u001b[0mself\u001b[0m\u001b[0;34m.\u001b[0m\u001b[0mscan_once\u001b[0m\u001b[0;34m(\u001b[0m\u001b[0ms\u001b[0m\u001b[0;34m,\u001b[0m \u001b[0midx\u001b[0m\u001b[0;34m)\u001b[0m\u001b[0;34m\u001b[0m\u001b[0m\n\u001b[1;32m    356\u001b[0m         \u001b[0;32mexcept\u001b[0m \u001b[0mStopIteration\u001b[0m \u001b[0;32mas\u001b[0m \u001b[0merr\u001b[0m\u001b[0;34m:\u001b[0m\u001b[0;34m\u001b[0m\u001b[0m\n\u001b[0;32m--> 357\u001b[0;31m             \u001b[0;32mraise\u001b[0m \u001b[0mJSONDecodeError\u001b[0m\u001b[0;34m(\u001b[0m\u001b[0;34m\"Expecting value\"\u001b[0m\u001b[0;34m,\u001b[0m \u001b[0ms\u001b[0m\u001b[0;34m,\u001b[0m \u001b[0merr\u001b[0m\u001b[0;34m.\u001b[0m\u001b[0mvalue\u001b[0m\u001b[0;34m)\u001b[0m \u001b[0;32mfrom\u001b[0m \u001b[0;32mNone\u001b[0m\u001b[0;34m\u001b[0m\u001b[0m\n\u001b[0m\u001b[1;32m    358\u001b[0m         \u001b[0;32mreturn\u001b[0m \u001b[0mobj\u001b[0m\u001b[0;34m,\u001b[0m \u001b[0mend\u001b[0m\u001b[0;34m\u001b[0m\u001b[0m\n",
      "\u001b[0;31mJSONDecodeError\u001b[0m: Expecting value: line 1 column 1 (char 0)"
     ]
    }
   ],
   "source": [
    "while(1) :\n",
    "    req = json.loads(sys.stdin.readline())\n",
    "    reqtype = req['type']\n",
    "    current_datetime = dateutil.parser.parse(req['time'])\n",
    "    if(reqtype==\"FIRSTMOVE\"):\n",
    "        action = first_move(current_datetime)\n",
    "        #Create response named list that will be converted to JSON\n",
    "        resp = {}\n",
    "        resp[\"defer\"]=action['defer'].strftime(\"%Y-%m-%dT%H:%M\")\n",
    "        resp[\"nextMove\"]=\"REPOSITION\"\n",
    "        resp[\"moveTo\"]=action['moveTo']\n",
    "        print(\"MAST30034:\" + json.dumps(resp))\n",
    "        sys.stdout.flush()\n",
    "    elif(reqtype==\"PLAYTURN\"):\n",
    "        current_cell = req['currentCell']\n",
    "        neighbours = req['neighbours']\n",
    "        action=play_turn(current_datetime, current_cell, neighbours)\n",
    "        print(\"MAST30034:\" + json.dumps(action))\n",
    "        sys.stdout.flush()\n",
    "    elif(reqtype==\"NEXTSHIFT\"):\n",
    "        action=next_shift(current_datetime)\n",
    "        #Create response named list that will be converted to JSON\n",
    "        resp = {}\n",
    "        resp[\"defer\"]=action['defer'].strftime(\"%Y-%m-%dT%H:%M\")\n",
    "        resp[\"nextMove\"]=\"REPOSITION\"\n",
    "        resp[\"moveTo\"]=action['moveTo']\n",
    "        print(\"MAST30034:\" + json.dumps(resp))\n",
    "        sys.stdout.flush()"
   ]
  },
  {
   "cell_type": "code",
   "execution_count": null,
   "metadata": {},
   "outputs": [],
   "source": []
  },
  {
   "cell_type": "code",
   "execution_count": null,
   "metadata": {},
   "outputs": [],
   "source": []
  },
  {
   "cell_type": "code",
   "execution_count": null,
   "metadata": {},
   "outputs": [],
   "source": []
  },
  {
   "cell_type": "code",
   "execution_count": null,
   "metadata": {},
   "outputs": [],
   "source": []
  }
 ],
 "metadata": {
  "kernelspec": {
   "display_name": "Python 3",
   "language": "python",
   "name": "python3"
  },
  "language_info": {
   "codemirror_mode": {
    "name": "ipython",
    "version": 3
   },
   "file_extension": ".py",
   "mimetype": "text/x-python",
   "name": "python",
   "nbconvert_exporter": "python",
   "pygments_lexer": "ipython3",
   "version": "3.6.4"
  }
 },
 "nbformat": 4,
 "nbformat_minor": 2
}
